{
 "cells": [
  {
   "cell_type": "code",
   "execution_count": 1,
   "metadata": {},
   "outputs": [],
   "source": [
    "import os"
   ]
  },
  {
   "cell_type": "code",
   "execution_count": 2,
   "metadata": {},
   "outputs": [
    {
     "data": {
      "text/plain": [
       "'c:\\\\Users\\\\N Ramaraju\\\\Desktop\\\\Projects\\\\Spam-email\\\\research'"
      ]
     },
     "execution_count": 2,
     "metadata": {},
     "output_type": "execute_result"
    }
   ],
   "source": [
    "%pwd"
   ]
  },
  {
   "cell_type": "code",
   "execution_count": 3,
   "metadata": {},
   "outputs": [],
   "source": [
    "os.chdir(\"../\")"
   ]
  },
  {
   "cell_type": "code",
   "execution_count": 4,
   "metadata": {},
   "outputs": [
    {
     "data": {
      "text/plain": [
       "'c:\\\\Users\\\\N Ramaraju\\\\Desktop\\\\Projects\\\\Spam-email'"
      ]
     },
     "execution_count": 4,
     "metadata": {},
     "output_type": "execute_result"
    }
   ],
   "source": [
    "%pwd"
   ]
  },
  {
   "cell_type": "code",
   "execution_count": 11,
   "metadata": {},
   "outputs": [],
   "source": [
    "from dataclasses import dataclass\n",
    "from pathlib import Path\n",
    "\n",
    "\n",
    "@dataclass(frozen=True)\n",
    "class DataTransformationConfig:\n",
    "    root_dir: Path\n",
    "    data_path: Path"
   ]
  },
  {
   "cell_type": "code",
   "execution_count": 12,
   "metadata": {},
   "outputs": [],
   "source": [
    "from Spam_mail.utils.common import *\n",
    "from Spam_mail.constants import *"
   ]
  },
  {
   "cell_type": "code",
   "execution_count": 13,
   "metadata": {},
   "outputs": [],
   "source": [
    "class ConfigurationManager:\n",
    "    def __init__(\n",
    "        self,\n",
    "        config_filepath = CONFIG_FILE_PATH,\n",
    "        params_filepath = PARAMS_FILE_PATH,\n",
    "        schema_filepath = SCHEMA_FILE_PATH):\n",
    "\n",
    "        self.config = read_yaml(config_filepath)\n",
    "        self.params = read_yaml(params_filepath)\n",
    "        self.schema = read_yaml(schema_filepath)\n",
    "\n",
    "        create_directories([self.config.artifacts_root])\n",
    "\n",
    "\n",
    "    \n",
    "    def get_data_transformation_config(self) -> DataTransformationConfig:\n",
    "        config = self.config.data_transformation\n",
    "\n",
    "        create_directories([config.root_dir])\n",
    "\n",
    "        data_transformation_config = DataTransformationConfig(\n",
    "            root_dir=config.root_dir,\n",
    "            data_path=config.data_path,\n",
    "        )\n",
    "\n",
    "        return data_transformation_config"
   ]
  },
  {
   "cell_type": "code",
   "execution_count": 14,
   "metadata": {},
   "outputs": [],
   "source": [
    "import pandas as pd\n",
    "from sklearn.feature_extraction.text import CountVectorizer\n",
    "from sklearn.model_selection import train_test_split\n",
    "from imblearn.over_sampling import SMOTE"
   ]
  },
  {
   "cell_type": "code",
   "execution_count": 17,
   "metadata": {},
   "outputs": [],
   "source": [
    "class DataTransformation:\n",
    "    def __init__(self, config: DataTransformationConfig):\n",
    "        self.config = config\n",
    "\n",
    "    \n",
    "    ## Note: You can add different data transformation techniques such as Scaler, PCA and all\n",
    "    #You can perform all kinds of EDA in ML cycle here before passing this data to the model\n",
    "\n",
    "    # I am only adding train_test_spliting cz this data is already cleaned up\n",
    "\n",
    "    def Data_transformation(self):\n",
    "        # Read the data from CSV using the path from config\n",
    "        df = pd.read_csv(self.config.data_path)\n",
    "        logger.info('Reading Data...')\n",
    "        logger.info('Vectorization initiated')\n",
    "        # Vectorization using CountVectorizer\n",
    "        cv = CountVectorizer()\n",
    "        x = df['Message']\n",
    "        y = df['Category'].apply(lambda x: 1 if x == 'spam' else 0)  # Convert labels to binary values\n",
    "        x_vectorized = cv.fit_transform(x)\n",
    "        logger.info('Vectorization Completed')\n",
    "\n",
    "\n",
    "        # Save CountVectorizer to a file\n",
    "        vectorizer_path = os.path.join(self.config.root_dir, 'count_vectorizer.pkl')\n",
    "        joblib.dump(cv, vectorizer_path)\n",
    "\n",
    "        # SMOTE oversampling\n",
    "        smote = SMOTE(random_state=42)\n",
    "        x_resampled, y_resampled = smote.fit_resample(x_vectorized, y)\n",
    "        logger.info('Oversampling Completed')\n",
    "        # Splitting Dataset into training and testing sets\n",
    "        x_train, x_test, y_train, y_test = train_test_split(x_resampled, y_resampled, test_size=0.2, random_state=42)\n",
    "        logger.info('Data Splitting is Completed')\n",
    "        return x_train, x_test, y_train, y_test\n"
   ]
  },
  {
   "cell_type": "code",
   "execution_count": 18,
   "metadata": {},
   "outputs": [
    {
     "name": "stdout",
     "output_type": "stream",
     "text": [
      "[2024-07-04 10:18:43,383: INFO: common: yaml file: config\\config.yaml loaded successfully]\n",
      "[2024-07-04 10:18:43,387: INFO: common: yaml file: params.yaml loaded successfully]\n",
      "[2024-07-04 10:18:43,387: INFO: common: yaml file: schema.yaml loaded successfully]\n",
      "[2024-07-04 10:18:43,387: INFO: common: created directory at: artifacts]\n",
      "[2024-07-04 10:18:43,393: INFO: common: created directory at: artifacts/data_transformation]\n",
      "[2024-07-04 10:18:43,413: INFO: 1148571369: Reading Data...]\n",
      "[2024-07-04 10:18:43,413: INFO: 1148571369: Vectorization initiated]\n",
      "[2024-07-04 10:18:43,603: INFO: 1148571369: Vectorization Completed]\n",
      "[2024-07-04 10:18:43,676: INFO: 1148571369: Oversampling Completed]\n",
      "[2024-07-04 10:18:43,687: INFO: 1148571369: Data Splitting is Completed]\n"
     ]
    }
   ],
   "source": [
    "try:\n",
    "    config = ConfigurationManager()\n",
    "    data_transformation_config = config.get_data_transformation_config()\n",
    "    data_transformation = DataTransformation(config=data_transformation_config)\n",
    "    data_transformation.Data_transformation()\n",
    "except Exception as e:\n",
    "    raise e"
   ]
  },
  {
   "cell_type": "code",
   "execution_count": null,
   "metadata": {},
   "outputs": [],
   "source": []
  }
 ],
 "metadata": {
  "kernelspec": {
   "display_name": "Python 3",
   "language": "python",
   "name": "python3"
  },
  "language_info": {
   "codemirror_mode": {
    "name": "ipython",
    "version": 3
   },
   "file_extension": ".py",
   "mimetype": "text/x-python",
   "name": "python",
   "nbconvert_exporter": "python",
   "pygments_lexer": "ipython3",
   "version": "3.11.4"
  }
 },
 "nbformat": 4,
 "nbformat_minor": 2
}
